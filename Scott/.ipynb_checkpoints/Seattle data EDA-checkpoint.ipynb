{
 "cells": [
  {
   "cell_type": "code",
   "execution_count": 1,
   "metadata": {},
   "outputs": [
    {
     "name": "stdout",
     "output_type": "stream",
     "text": [
      "OFJvlNn5ANvzdPSrpGWIXxSW5\n"
     ]
    }
   ],
   "source": [
    "import json\n",
    "import pandas as pd\n",
    "import numpy as np\n",
    "import requests\n",
    "from sodapy import Socrata\n",
    "from api_keys import MyAppToken\n",
    "\n",
    "from datetime import datetime, date, timedelta\n",
    "import time\n",
    "\n",
    "# Set to True if you want \"all the info messages\"\n",
    "debug = False;\n",
    "print(MyAppToken)"
   ]
  },
  {
   "cell_type": "code",
   "execution_count": 2,
   "metadata": {},
   "outputs": [],
   "source": [
    "todaysDate = time.strftime(\"%m-%d-%Y\")\n",
    "todaysFile = todaysDate + \".csv\""
   ]
  },
  {
   "cell_type": "code",
   "execution_count": 3,
   "metadata": {},
   "outputs": [],
   "source": [
    "# Seattle datasets:\n",
    "# https://data.seattle.gov/Public-Safety/Call-Data/33kz-ixgy\n",
    "\n",
    "# https://data.seattle.gov/Public-Safety/SPD-Crime-Data-2008-Present/tazs-3rd5\n",
    "crime_data = \"tazs-3rd5\"\n",
    "client = Socrata(\"data.seattle.gov\", MyAppToken)"
   ]
  },
  {
   "cell_type": "code",
   "execution_count": 65,
   "metadata": {},
   "outputs": [
    {
     "ename": "SyntaxError",
     "evalue": "invalid syntax (<ipython-input-65-384b3bacb0b9>, line 8)",
     "output_type": "error",
     "traceback": [
      "\u001b[1;36m  File \u001b[1;32m\"<ipython-input-65-384b3bacb0b9>\"\u001b[1;36m, line \u001b[1;32m8\u001b[0m\n\u001b[1;33m    offense_start_datetime BETWEEN \"2015-01-31 00:00:00\" AND \"2015-02-01 23:59:59\",\u001b[0m\n\u001b[1;37m                                 ^\u001b[0m\n\u001b[1;31mSyntaxError\u001b[0m\u001b[1;31m:\u001b[0m invalid syntax\n"
     ]
    }
   ],
   "source": [
    "df = pd.DataFrame(\n",
    "    client.get(\n",
    "        crime_data, \n",
    "        #[Offense Start DateTime] = '2015-01-10T12:00:00' and '2015-01-10T14:00:00', \n",
    "        # offense = \"Robbery\",\n",
    "        # offense_code = 120,\n",
    "        # offense_start_datetime = \"2015-02-01T00:00:00\",\n",
    "        offense_start_datetime BETWEEN \"2015-01-31 00:00:00\" AND \"2015-02-01 23:59:59\",\n",
    "        limit=10,\n",
    "        exclude_system_fields=True\n",
    "    )\n",
    ")\n",
    "# client.close()\n",
    "# results = client.get(crime_data, Offense = 'Robbery', limit=2000)\n",
    "# df_robbery = pd.DataFrame.from_records(results)"
   ]
  },
  {
   "cell_type": "code",
   "execution_count": 61,
   "metadata": {},
   "outputs": [
    {
     "data": {
      "text/html": [
       "<div>\n",
       "<style scoped>\n",
       "    .dataframe tbody tr th:only-of-type {\n",
       "        vertical-align: middle;\n",
       "    }\n",
       "\n",
       "    .dataframe tbody tr th {\n",
       "        vertical-align: top;\n",
       "    }\n",
       "\n",
       "    .dataframe thead th {\n",
       "        text-align: right;\n",
       "    }\n",
       "</style>\n",
       "<table border=\"1\" class=\"dataframe\">\n",
       "  <thead>\n",
       "    <tr style=\"text-align: right;\">\n",
       "      <th></th>\n",
       "      <th>_100_block_address</th>\n",
       "      <th>beat</th>\n",
       "      <th>crime_against_category</th>\n",
       "      <th>group_a_b</th>\n",
       "      <th>latitude</th>\n",
       "      <th>longitude</th>\n",
       "      <th>mcpp</th>\n",
       "      <th>offense</th>\n",
       "      <th>offense_code</th>\n",
       "      <th>offense_end_datetime</th>\n",
       "      <th>offense_id</th>\n",
       "      <th>offense_parent_group</th>\n",
       "      <th>offense_start_datetime</th>\n",
       "      <th>precinct</th>\n",
       "      <th>report_datetime</th>\n",
       "      <th>report_number</th>\n",
       "      <th>sector</th>\n",
       "    </tr>\n",
       "  </thead>\n",
       "  <tbody>\n",
       "    <tr>\n",
       "      <th>0</th>\n",
       "      <td>75XX BLOCK OF JONES AVE NW</td>\n",
       "      <td>J2</td>\n",
       "      <td>PROPERTY</td>\n",
       "      <td>A</td>\n",
       "      <td>47.684084070</td>\n",
       "      <td>-122.386460162</td>\n",
       "      <td>BALLARD NORTH</td>\n",
       "      <td>Theft From Motor Vehicle</td>\n",
       "      <td>23F</td>\n",
       "      <td>2015-02-01 09:50:00</td>\n",
       "      <td>7699084092</td>\n",
       "      <td>LARCENY-THEFT</td>\n",
       "      <td>2015-01-31 17:00:00</td>\n",
       "      <td>N</td>\n",
       "      <td>2015-02-01 11:04:00</td>\n",
       "      <td>2015-900680</td>\n",
       "      <td>J</td>\n",
       "    </tr>\n",
       "    <tr>\n",
       "      <th>1</th>\n",
       "      <td>70XX BLOCK OF S 115TH ST</td>\n",
       "      <td>S3</td>\n",
       "      <td>PROPERTY</td>\n",
       "      <td>A</td>\n",
       "      <td>47.499708700</td>\n",
       "      <td>-122.246388536</td>\n",
       "      <td>RAINIER VIEW</td>\n",
       "      <td>Motor Vehicle Theft</td>\n",
       "      <td>240</td>\n",
       "      <td>2015-02-01 01:35:00</td>\n",
       "      <td>7695536997</td>\n",
       "      <td>MOTOR VEHICLE THEFT</td>\n",
       "      <td>2015-01-31 17:00:00</td>\n",
       "      <td>S</td>\n",
       "      <td>2015-02-01 01:39:00</td>\n",
       "      <td>2015-036063</td>\n",
       "      <td>S</td>\n",
       "    </tr>\n",
       "    <tr>\n",
       "      <th>2</th>\n",
       "      <td>6XX BLOCK OF NW 89TH ST</td>\n",
       "      <td>J1</td>\n",
       "      <td>PROPERTY</td>\n",
       "      <td>A</td>\n",
       "      <td>47.693531050</td>\n",
       "      <td>-122.364674984</td>\n",
       "      <td>GREENWOOD</td>\n",
       "      <td>Burglary/Breaking &amp; Entering</td>\n",
       "      <td>220</td>\n",
       "      <td>2015-03-15 13:00:00</td>\n",
       "      <td>7682924447</td>\n",
       "      <td>BURGLARY/BREAKING&amp;ENTERING</td>\n",
       "      <td>2015-01-31 17:00:00</td>\n",
       "      <td>N</td>\n",
       "      <td>2015-03-15 13:47:00</td>\n",
       "      <td>2015-085270</td>\n",
       "      <td>J</td>\n",
       "    </tr>\n",
       "    <tr>\n",
       "      <th>3</th>\n",
       "      <td>24XX BLOCK OF 2ND AVE</td>\n",
       "      <td>D1</td>\n",
       "      <td>PROPERTY</td>\n",
       "      <td>A</td>\n",
       "      <td>47.615084920</td>\n",
       "      <td>-122.347420341</td>\n",
       "      <td>BELLTOWN</td>\n",
       "      <td>Motor Vehicle Theft</td>\n",
       "      <td>240</td>\n",
       "      <td>2015-02-01 17:00:00</td>\n",
       "      <td>7665241463</td>\n",
       "      <td>MOTOR VEHICLE THEFT</td>\n",
       "      <td>2015-01-31 17:00:00</td>\n",
       "      <td>W</td>\n",
       "      <td>2015-02-19 12:41:00</td>\n",
       "      <td>2015-057244</td>\n",
       "      <td>D</td>\n",
       "    </tr>\n",
       "  </tbody>\n",
       "</table>\n",
       "</div>"
      ],
      "text/plain": [
       "           _100_block_address beat crime_against_category group_a_b  \\\n",
       "0  75XX BLOCK OF JONES AVE NW   J2               PROPERTY         A   \n",
       "1    70XX BLOCK OF S 115TH ST   S3               PROPERTY         A   \n",
       "2     6XX BLOCK OF NW 89TH ST   J1               PROPERTY         A   \n",
       "3       24XX BLOCK OF 2ND AVE   D1               PROPERTY         A   \n",
       "\n",
       "       latitude       longitude           mcpp                       offense  \\\n",
       "0  47.684084070  -122.386460162  BALLARD NORTH      Theft From Motor Vehicle   \n",
       "1  47.499708700  -122.246388536   RAINIER VIEW           Motor Vehicle Theft   \n",
       "2  47.693531050  -122.364674984      GREENWOOD  Burglary/Breaking & Entering   \n",
       "3  47.615084920  -122.347420341       BELLTOWN           Motor Vehicle Theft   \n",
       "\n",
       "  offense_code offense_end_datetime  offense_id        offense_parent_group  \\\n",
       "0          23F  2015-02-01 09:50:00  7699084092               LARCENY-THEFT   \n",
       "1          240  2015-02-01 01:35:00  7695536997         MOTOR VEHICLE THEFT   \n",
       "2          220  2015-03-15 13:00:00  7682924447  BURGLARY/BREAKING&ENTERING   \n",
       "3          240  2015-02-01 17:00:00  7665241463         MOTOR VEHICLE THEFT   \n",
       "\n",
       "  offense_start_datetime precinct      report_datetime report_number sector  \n",
       "0    2015-01-31 17:00:00        N  2015-02-01 11:04:00   2015-900680      J  \n",
       "1    2015-01-31 17:00:00        S  2015-02-01 01:39:00   2015-036063      S  \n",
       "2    2015-01-31 17:00:00        N  2015-03-15 13:47:00   2015-085270      J  \n",
       "3    2015-01-31 17:00:00        W  2015-02-19 12:41:00   2015-057244      D  "
      ]
     },
     "execution_count": 61,
     "metadata": {},
     "output_type": "execute_result"
    }
   ],
   "source": [
    "df.head()"
   ]
  },
  {
   "cell_type": "code",
   "execution_count": 19,
   "metadata": {},
   "outputs": [],
   "source": [
    "# Drop unneeded columns\n",
    "# Keep only 'latitude', 'longitude', 'crime_against_category', 'offense', 'offense_code', 'report_datetime'\n",
    "df.drop([\n",
    "    'beat', 'group_a_b', 'mcpp'\n",
    "    , 'offense_end_datetime', 'offense_id', 'report_datetime'\n",
    "    , 'precinct', 'report_number', 'sector'\n",
    "    ], axis=1, inplace=True\n",
    ")\n",
    "\n",
    "# description = \"offense\"\n",
    "# primary_type = \"parent\"\n",
    "df.columns = [\"category\", \"latitude\", \"longitude\", \"description\", \"code\", \"primary_type\", \"datetime\"]\n",
    "df[\"city\"] = \"Seattle\";\n",
    "df[\"domestic\"] = \"Unknown\"\n",
    "\n",
    "df['day'] = pd.DatetimeIndex(df['datetime']).day\n",
    "df['month'] = pd.DatetimeIndex(df['datetime']).month\n",
    "df['year'] = pd.DatetimeIndex(df['datetime']).year\n",
    "\n",
    "# Organize: \n",
    "final = df[[\"city\", \"primary_type\", \"description\", \"domestic\", \"day\", \"month\", \"year\", \"latitude\", \"longitude\"]]"
   ]
  },
  {
   "cell_type": "code",
   "execution_count": 21,
   "metadata": {},
   "outputs": [
    {
     "data": {
      "text/html": [
       "<div>\n",
       "<style scoped>\n",
       "    .dataframe tbody tr th:only-of-type {\n",
       "        vertical-align: middle;\n",
       "    }\n",
       "\n",
       "    .dataframe tbody tr th {\n",
       "        vertical-align: top;\n",
       "    }\n",
       "\n",
       "    .dataframe thead th {\n",
       "        text-align: right;\n",
       "    }\n",
       "</style>\n",
       "<table border=\"1\" class=\"dataframe\">\n",
       "  <thead>\n",
       "    <tr style=\"text-align: right;\">\n",
       "      <th></th>\n",
       "      <th>city</th>\n",
       "      <th>primary_type</th>\n",
       "      <th>description</th>\n",
       "      <th>domestic</th>\n",
       "      <th>day</th>\n",
       "      <th>month</th>\n",
       "      <th>year</th>\n",
       "      <th>latitude</th>\n",
       "      <th>longitude</th>\n",
       "    </tr>\n",
       "  </thead>\n",
       "  <tbody>\n",
       "    <tr>\n",
       "      <th>0</th>\n",
       "      <td>Seattle</td>\n",
       "      <td>SEX OFFENSES</td>\n",
       "      <td>Fondling</td>\n",
       "      <td>Unknown</td>\n",
       "      <td>31</td>\n",
       "      <td>1</td>\n",
       "      <td>2015</td>\n",
       "      <td>0E-9</td>\n",
       "      <td>0E-9</td>\n",
       "    </tr>\n",
       "    <tr>\n",
       "      <th>1</th>\n",
       "      <td>Seattle</td>\n",
       "      <td>SEX OFFENSES</td>\n",
       "      <td>Rape</td>\n",
       "      <td>Unknown</td>\n",
       "      <td>30</td>\n",
       "      <td>1</td>\n",
       "      <td>2015</td>\n",
       "      <td>0E-9</td>\n",
       "      <td>0E-9</td>\n",
       "    </tr>\n",
       "    <tr>\n",
       "      <th>2</th>\n",
       "      <td>Seattle</td>\n",
       "      <td>SEX OFFENSES</td>\n",
       "      <td>Rape</td>\n",
       "      <td>Unknown</td>\n",
       "      <td>16</td>\n",
       "      <td>1</td>\n",
       "      <td>2015</td>\n",
       "      <td>0E-9</td>\n",
       "      <td>0E-9</td>\n",
       "    </tr>\n",
       "    <tr>\n",
       "      <th>3</th>\n",
       "      <td>Seattle</td>\n",
       "      <td>SEX OFFENSES</td>\n",
       "      <td>Rape</td>\n",
       "      <td>Unknown</td>\n",
       "      <td>29</td>\n",
       "      <td>1</td>\n",
       "      <td>2015</td>\n",
       "      <td>0E-9</td>\n",
       "      <td>0E-9</td>\n",
       "    </tr>\n",
       "    <tr>\n",
       "      <th>4</th>\n",
       "      <td>Seattle</td>\n",
       "      <td>SEX OFFENSES</td>\n",
       "      <td>Sodomy</td>\n",
       "      <td>Unknown</td>\n",
       "      <td>27</td>\n",
       "      <td>1</td>\n",
       "      <td>2015</td>\n",
       "      <td>0E-9</td>\n",
       "      <td>0E-9</td>\n",
       "    </tr>\n",
       "  </tbody>\n",
       "</table>\n",
       "</div>"
      ],
      "text/plain": [
       "      city  primary_type description domestic  day  month  year latitude  \\\n",
       "0  Seattle  SEX OFFENSES    Fondling  Unknown   31      1  2015     0E-9   \n",
       "1  Seattle  SEX OFFENSES        Rape  Unknown   30      1  2015     0E-9   \n",
       "2  Seattle  SEX OFFENSES        Rape  Unknown   16      1  2015     0E-9   \n",
       "3  Seattle  SEX OFFENSES        Rape  Unknown   29      1  2015     0E-9   \n",
       "4  Seattle  SEX OFFENSES      Sodomy  Unknown   27      1  2015     0E-9   \n",
       "\n",
       "  longitude  \n",
       "0      0E-9  \n",
       "1      0E-9  \n",
       "2      0E-9  \n",
       "3      0E-9  \n",
       "4      0E-9  "
      ]
     },
     "execution_count": 21,
     "metadata": {},
     "output_type": "execute_result"
    }
   ],
   "source": [
    "final.head()"
   ]
  },
  {
   "cell_type": "code",
   "execution_count": 22,
   "metadata": {},
   "outputs": [
    {
     "data": {
      "text/html": [
       "<div>\n",
       "<style scoped>\n",
       "    .dataframe tbody tr th:only-of-type {\n",
       "        vertical-align: middle;\n",
       "    }\n",
       "\n",
       "    .dataframe tbody tr th {\n",
       "        vertical-align: top;\n",
       "    }\n",
       "\n",
       "    .dataframe thead th {\n",
       "        text-align: right;\n",
       "    }\n",
       "</style>\n",
       "<table border=\"1\" class=\"dataframe\">\n",
       "  <thead>\n",
       "    <tr style=\"text-align: right;\">\n",
       "      <th></th>\n",
       "      <th>category</th>\n",
       "      <th>latitude</th>\n",
       "      <th>longitude</th>\n",
       "      <th>description</th>\n",
       "      <th>code</th>\n",
       "      <th>primary_type</th>\n",
       "      <th>datetime</th>\n",
       "      <th>city</th>\n",
       "      <th>domestic</th>\n",
       "      <th>day</th>\n",
       "      <th>month</th>\n",
       "      <th>year</th>\n",
       "    </tr>\n",
       "  </thead>\n",
       "  <tbody>\n",
       "    <tr>\n",
       "      <th>0</th>\n",
       "      <td>PERSON</td>\n",
       "      <td>0E-9</td>\n",
       "      <td>0E-9</td>\n",
       "      <td>Fondling</td>\n",
       "      <td>11D</td>\n",
       "      <td>SEX OFFENSES</td>\n",
       "      <td>2015-01-31 14:06:00</td>\n",
       "      <td>Seattle</td>\n",
       "      <td>Unknown</td>\n",
       "      <td>31</td>\n",
       "      <td>1</td>\n",
       "      <td>2015</td>\n",
       "    </tr>\n",
       "    <tr>\n",
       "      <th>1</th>\n",
       "      <td>PERSON</td>\n",
       "      <td>0E-9</td>\n",
       "      <td>0E-9</td>\n",
       "      <td>Rape</td>\n",
       "      <td>11A</td>\n",
       "      <td>SEX OFFENSES</td>\n",
       "      <td>2015-01-30 23:00:00</td>\n",
       "      <td>Seattle</td>\n",
       "      <td>Unknown</td>\n",
       "      <td>30</td>\n",
       "      <td>1</td>\n",
       "      <td>2015</td>\n",
       "    </tr>\n",
       "    <tr>\n",
       "      <th>2</th>\n",
       "      <td>PERSON</td>\n",
       "      <td>0E-9</td>\n",
       "      <td>0E-9</td>\n",
       "      <td>Rape</td>\n",
       "      <td>11A</td>\n",
       "      <td>SEX OFFENSES</td>\n",
       "      <td>2015-01-16 15:00:00</td>\n",
       "      <td>Seattle</td>\n",
       "      <td>Unknown</td>\n",
       "      <td>16</td>\n",
       "      <td>1</td>\n",
       "      <td>2015</td>\n",
       "    </tr>\n",
       "    <tr>\n",
       "      <th>3</th>\n",
       "      <td>PERSON</td>\n",
       "      <td>0E-9</td>\n",
       "      <td>0E-9</td>\n",
       "      <td>Rape</td>\n",
       "      <td>11A</td>\n",
       "      <td>SEX OFFENSES</td>\n",
       "      <td>2015-01-29 08:30:00</td>\n",
       "      <td>Seattle</td>\n",
       "      <td>Unknown</td>\n",
       "      <td>29</td>\n",
       "      <td>1</td>\n",
       "      <td>2015</td>\n",
       "    </tr>\n",
       "    <tr>\n",
       "      <th>4</th>\n",
       "      <td>PERSON</td>\n",
       "      <td>0E-9</td>\n",
       "      <td>0E-9</td>\n",
       "      <td>Sodomy</td>\n",
       "      <td>11B</td>\n",
       "      <td>SEX OFFENSES</td>\n",
       "      <td>2015-01-27 22:13:00</td>\n",
       "      <td>Seattle</td>\n",
       "      <td>Unknown</td>\n",
       "      <td>27</td>\n",
       "      <td>1</td>\n",
       "      <td>2015</td>\n",
       "    </tr>\n",
       "  </tbody>\n",
       "</table>\n",
       "</div>"
      ],
      "text/plain": [
       "  category latitude longitude description code  primary_type  \\\n",
       "0   PERSON     0E-9      0E-9    Fondling  11D  SEX OFFENSES   \n",
       "1   PERSON     0E-9      0E-9        Rape  11A  SEX OFFENSES   \n",
       "2   PERSON     0E-9      0E-9        Rape  11A  SEX OFFENSES   \n",
       "3   PERSON     0E-9      0E-9        Rape  11A  SEX OFFENSES   \n",
       "4   PERSON     0E-9      0E-9      Sodomy  11B  SEX OFFENSES   \n",
       "\n",
       "              datetime     city domestic  day  month  year  \n",
       "0  2015-01-31 14:06:00  Seattle  Unknown   31      1  2015  \n",
       "1  2015-01-30 23:00:00  Seattle  Unknown   30      1  2015  \n",
       "2  2015-01-16 15:00:00  Seattle  Unknown   16      1  2015  \n",
       "3  2015-01-29 08:30:00  Seattle  Unknown   29      1  2015  \n",
       "4  2015-01-27 22:13:00  Seattle  Unknown   27      1  2015  "
      ]
     },
     "execution_count": 22,
     "metadata": {},
     "output_type": "execute_result"
    }
   ],
   "source": [
    "df.head()"
   ]
  },
  {
   "cell_type": "code",
   "execution_count": 6,
   "metadata": {},
   "outputs": [
    {
     "ename": "KeyError",
     "evalue": "'category'",
     "output_type": "error",
     "traceback": [
      "\u001b[1;31m---------------------------------------------------------------------------\u001b[0m",
      "\u001b[1;31mKeyError\u001b[0m                                  Traceback (most recent call last)",
      "\u001b[1;32mD:\\Anaconda3\\lib\\site-packages\\pandas\\core\\indexes\\base.py\u001b[0m in \u001b[0;36mget_loc\u001b[1;34m(self, key, method, tolerance)\u001b[0m\n\u001b[0;32m   2656\u001b[0m             \u001b[1;32mtry\u001b[0m\u001b[1;33m:\u001b[0m\u001b[1;33m\u001b[0m\u001b[1;33m\u001b[0m\u001b[0m\n\u001b[1;32m-> 2657\u001b[1;33m                 \u001b[1;32mreturn\u001b[0m \u001b[0mself\u001b[0m\u001b[1;33m.\u001b[0m\u001b[0m_engine\u001b[0m\u001b[1;33m.\u001b[0m\u001b[0mget_loc\u001b[0m\u001b[1;33m(\u001b[0m\u001b[0mkey\u001b[0m\u001b[1;33m)\u001b[0m\u001b[1;33m\u001b[0m\u001b[1;33m\u001b[0m\u001b[0m\n\u001b[0m\u001b[0;32m   2658\u001b[0m             \u001b[1;32mexcept\u001b[0m \u001b[0mKeyError\u001b[0m\u001b[1;33m:\u001b[0m\u001b[1;33m\u001b[0m\u001b[1;33m\u001b[0m\u001b[0m\n",
      "\u001b[1;32mpandas/_libs/index.pyx\u001b[0m in \u001b[0;36mpandas._libs.index.IndexEngine.get_loc\u001b[1;34m()\u001b[0m\n",
      "\u001b[1;32mpandas/_libs/index.pyx\u001b[0m in \u001b[0;36mpandas._libs.index.IndexEngine.get_loc\u001b[1;34m()\u001b[0m\n",
      "\u001b[1;32mpandas/_libs/hashtable_class_helper.pxi\u001b[0m in \u001b[0;36mpandas._libs.hashtable.PyObjectHashTable.get_item\u001b[1;34m()\u001b[0m\n",
      "\u001b[1;32mpandas/_libs/hashtable_class_helper.pxi\u001b[0m in \u001b[0;36mpandas._libs.hashtable.PyObjectHashTable.get_item\u001b[1;34m()\u001b[0m\n",
      "\u001b[1;31mKeyError\u001b[0m: 'category'",
      "\nDuring handling of the above exception, another exception occurred:\n",
      "\u001b[1;31mKeyError\u001b[0m                                  Traceback (most recent call last)",
      "\u001b[1;32m<ipython-input-6-08622797d5b7>\u001b[0m in \u001b[0;36m<module>\u001b[1;34m\u001b[0m\n\u001b[1;32m----> 1\u001b[1;33m \u001b[0mx\u001b[0m \u001b[1;33m=\u001b[0m \u001b[0mdf\u001b[0m\u001b[1;33m[\u001b[0m\u001b[1;34m\"category\"\u001b[0m\u001b[1;33m]\u001b[0m\u001b[1;33m.\u001b[0m\u001b[0munique\u001b[0m\u001b[1;33m(\u001b[0m\u001b[1;33m)\u001b[0m\u001b[1;33m\u001b[0m\u001b[1;33m\u001b[0m\u001b[0m\n\u001b[0m\u001b[0;32m      2\u001b[0m \u001b[0msorted\u001b[0m\u001b[1;33m(\u001b[0m\u001b[0mx\u001b[0m\u001b[1;33m)\u001b[0m\u001b[1;33m\u001b[0m\u001b[1;33m\u001b[0m\u001b[0m\n",
      "\u001b[1;32mD:\\Anaconda3\\lib\\site-packages\\pandas\\core\\frame.py\u001b[0m in \u001b[0;36m__getitem__\u001b[1;34m(self, key)\u001b[0m\n\u001b[0;32m   2925\u001b[0m             \u001b[1;32mif\u001b[0m \u001b[0mself\u001b[0m\u001b[1;33m.\u001b[0m\u001b[0mcolumns\u001b[0m\u001b[1;33m.\u001b[0m\u001b[0mnlevels\u001b[0m \u001b[1;33m>\u001b[0m \u001b[1;36m1\u001b[0m\u001b[1;33m:\u001b[0m\u001b[1;33m\u001b[0m\u001b[1;33m\u001b[0m\u001b[0m\n\u001b[0;32m   2926\u001b[0m                 \u001b[1;32mreturn\u001b[0m \u001b[0mself\u001b[0m\u001b[1;33m.\u001b[0m\u001b[0m_getitem_multilevel\u001b[0m\u001b[1;33m(\u001b[0m\u001b[0mkey\u001b[0m\u001b[1;33m)\u001b[0m\u001b[1;33m\u001b[0m\u001b[1;33m\u001b[0m\u001b[0m\n\u001b[1;32m-> 2927\u001b[1;33m             \u001b[0mindexer\u001b[0m \u001b[1;33m=\u001b[0m \u001b[0mself\u001b[0m\u001b[1;33m.\u001b[0m\u001b[0mcolumns\u001b[0m\u001b[1;33m.\u001b[0m\u001b[0mget_loc\u001b[0m\u001b[1;33m(\u001b[0m\u001b[0mkey\u001b[0m\u001b[1;33m)\u001b[0m\u001b[1;33m\u001b[0m\u001b[1;33m\u001b[0m\u001b[0m\n\u001b[0m\u001b[0;32m   2928\u001b[0m             \u001b[1;32mif\u001b[0m \u001b[0mis_integer\u001b[0m\u001b[1;33m(\u001b[0m\u001b[0mindexer\u001b[0m\u001b[1;33m)\u001b[0m\u001b[1;33m:\u001b[0m\u001b[1;33m\u001b[0m\u001b[1;33m\u001b[0m\u001b[0m\n\u001b[0;32m   2929\u001b[0m                 \u001b[0mindexer\u001b[0m \u001b[1;33m=\u001b[0m \u001b[1;33m[\u001b[0m\u001b[0mindexer\u001b[0m\u001b[1;33m]\u001b[0m\u001b[1;33m\u001b[0m\u001b[1;33m\u001b[0m\u001b[0m\n",
      "\u001b[1;32mD:\\Anaconda3\\lib\\site-packages\\pandas\\core\\indexes\\base.py\u001b[0m in \u001b[0;36mget_loc\u001b[1;34m(self, key, method, tolerance)\u001b[0m\n\u001b[0;32m   2657\u001b[0m                 \u001b[1;32mreturn\u001b[0m \u001b[0mself\u001b[0m\u001b[1;33m.\u001b[0m\u001b[0m_engine\u001b[0m\u001b[1;33m.\u001b[0m\u001b[0mget_loc\u001b[0m\u001b[1;33m(\u001b[0m\u001b[0mkey\u001b[0m\u001b[1;33m)\u001b[0m\u001b[1;33m\u001b[0m\u001b[1;33m\u001b[0m\u001b[0m\n\u001b[0;32m   2658\u001b[0m             \u001b[1;32mexcept\u001b[0m \u001b[0mKeyError\u001b[0m\u001b[1;33m:\u001b[0m\u001b[1;33m\u001b[0m\u001b[1;33m\u001b[0m\u001b[0m\n\u001b[1;32m-> 2659\u001b[1;33m                 \u001b[1;32mreturn\u001b[0m \u001b[0mself\u001b[0m\u001b[1;33m.\u001b[0m\u001b[0m_engine\u001b[0m\u001b[1;33m.\u001b[0m\u001b[0mget_loc\u001b[0m\u001b[1;33m(\u001b[0m\u001b[0mself\u001b[0m\u001b[1;33m.\u001b[0m\u001b[0m_maybe_cast_indexer\u001b[0m\u001b[1;33m(\u001b[0m\u001b[0mkey\u001b[0m\u001b[1;33m)\u001b[0m\u001b[1;33m)\u001b[0m\u001b[1;33m\u001b[0m\u001b[1;33m\u001b[0m\u001b[0m\n\u001b[0m\u001b[0;32m   2660\u001b[0m         \u001b[0mindexer\u001b[0m \u001b[1;33m=\u001b[0m \u001b[0mself\u001b[0m\u001b[1;33m.\u001b[0m\u001b[0mget_indexer\u001b[0m\u001b[1;33m(\u001b[0m\u001b[1;33m[\u001b[0m\u001b[0mkey\u001b[0m\u001b[1;33m]\u001b[0m\u001b[1;33m,\u001b[0m \u001b[0mmethod\u001b[0m\u001b[1;33m=\u001b[0m\u001b[0mmethod\u001b[0m\u001b[1;33m,\u001b[0m \u001b[0mtolerance\u001b[0m\u001b[1;33m=\u001b[0m\u001b[0mtolerance\u001b[0m\u001b[1;33m)\u001b[0m\u001b[1;33m\u001b[0m\u001b[1;33m\u001b[0m\u001b[0m\n\u001b[0;32m   2661\u001b[0m         \u001b[1;32mif\u001b[0m \u001b[0mindexer\u001b[0m\u001b[1;33m.\u001b[0m\u001b[0mndim\u001b[0m \u001b[1;33m>\u001b[0m \u001b[1;36m1\u001b[0m \u001b[1;32mor\u001b[0m \u001b[0mindexer\u001b[0m\u001b[1;33m.\u001b[0m\u001b[0msize\u001b[0m \u001b[1;33m>\u001b[0m \u001b[1;36m1\u001b[0m\u001b[1;33m:\u001b[0m\u001b[1;33m\u001b[0m\u001b[1;33m\u001b[0m\u001b[0m\n",
      "\u001b[1;32mpandas/_libs/index.pyx\u001b[0m in \u001b[0;36mpandas._libs.index.IndexEngine.get_loc\u001b[1;34m()\u001b[0m\n",
      "\u001b[1;32mpandas/_libs/index.pyx\u001b[0m in \u001b[0;36mpandas._libs.index.IndexEngine.get_loc\u001b[1;34m()\u001b[0m\n",
      "\u001b[1;32mpandas/_libs/hashtable_class_helper.pxi\u001b[0m in \u001b[0;36mpandas._libs.hashtable.PyObjectHashTable.get_item\u001b[1;34m()\u001b[0m\n",
      "\u001b[1;32mpandas/_libs/hashtable_class_helper.pxi\u001b[0m in \u001b[0;36mpandas._libs.hashtable.PyObjectHashTable.get_item\u001b[1;34m()\u001b[0m\n",
      "\u001b[1;31mKeyError\u001b[0m: 'category'"
     ]
    }
   ],
   "source": [
    "x = df[\"category\"].unique()\n",
    "sorted(x)"
   ]
  },
  {
   "cell_type": "code",
   "execution_count": null,
   "metadata": {},
   "outputs": [],
   "source": [
    "# .unique() creates a numpy.ndarray\n",
    "x = df[\"group\"].unique();\n",
    "sorted(x)"
   ]
  },
  {
   "cell_type": "code",
   "execution_count": null,
   "metadata": {},
   "outputs": [],
   "source": [
    "df.groupby([\"category\", \"group\"]).count()"
   ]
  },
  {
   "cell_type": "code",
   "execution_count": null,
   "metadata": {},
   "outputs": [],
   "source": [
    "aggs = df.groupby([\"category\", \"group\", \"offense\"]).count()\n",
    "aggs.columns = [\"incidents\", \"delete1\", \"delete12\", \"delete13\"]\n",
    "aggs = aggs.reset_index()\n",
    "aggs.columns # aggs.drop(aggs.columns[[\"delete1\", \"delete12\", \"delete13\"]], axis=0)\n",
    "aggs"
   ]
  },
  {
   "cell_type": "raw",
   "metadata": {},
   "source": [
    "print(aggs.columns)"
   ]
  },
  {
   "cell_type": "code",
   "execution_count": null,
   "metadata": {},
   "outputs": [],
   "source": [
    "df_robbery.dtypes"
   ]
  },
  {
   "cell_type": "code",
   "execution_count": null,
   "metadata": {},
   "outputs": [],
   "source": [
    "# Unauthenticated client only works with public data sets. Note 'None'\n",
    "# in place of application token, and no username or password:\n",
    "client = Socrata(\"data.seattle.gov\", None)\n",
    "results = client.get(crime_data, limit=2000)\n",
    "# Convert to pandas DataFrame\n",
    "df = pd.DataFrame.from_records(results)"
   ]
  },
  {
   "cell_type": "code",
   "execution_count": null,
   "metadata": {},
   "outputs": [],
   "source": [
    "client = Socrata(\"data.seattle.org\", MyAppToken, None, None )\n",
    "\n",
    "try:\n",
    "    results = client.get(\"tazs-3rd5\", limit=10)\n",
    "                         \n",
    "except requests.exceptions.Timeout:\n",
    "  print(\"Timeout occurred\")\n",
    "\n",
    "# Convert to pandas DataFrame\n",
    "df = pd.DataFrame.from_records(results)"
   ]
  },
  {
   "cell_type": "code",
   "execution_count": null,
   "metadata": {},
   "outputs": [],
   "source": [
    "# Example authenticated client (needed for non-public datasets):\n",
    "client = Socrata(\"data.seattle.org\", MyAppToken, None, None);\n",
    "# url = \"https://data.seattle.gov/resource/tazs-3rd5.json?Offense=Robbery\"\n",
    "url = \"tazs-3rd5.json\"\n",
    "\n",
    "# results = client.get(url, Offense = \"Burglary\", limit = 10)\n",
    "results = client.get(url, limit = 10)"
   ]
  },
  {
   "cell_type": "code",
   "execution_count": null,
   "metadata": {},
   "outputs": [],
   "source": [
    "\n",
    "df_roberry = pd.DataFrame.from_records(results)\n",
    "df_robbery"
   ]
  },
  {
   "cell_type": "code",
   "execution_count": null,
   "metadata": {},
   "outputs": [],
   "source": [
    "# First 2000 results, returned as JSON from API / converted to Python list of\n",
    "# dictionaries by sodapy.\n",
    "results = client.get(\"wg3w-h783\", incident_year = 2019, limit=20000)\n",
    "\n",
    "# Convert to pandas DataFrame\n",
    "df1 = pd.DataFrame.from_records(results)\n",
    "\n",
    "df1"
   ]
  },
  {
   "cell_type": "code",
   "execution_count": null,
   "metadata": {},
   "outputs": [],
   "source": []
  },
  {
   "cell_type": "code",
   "execution_count": null,
   "metadata": {},
   "outputs": [],
   "source": [
    "url = \"https://data.seattle.gov/resource/tazs-3rd5.json?Offense=Robbery\"\n",
    "df_roberry = pd.read_json(url)\n",
    "\n",
    "df_roberry = df_roberry.drop(columns = [\n",
    "    \"_100_block_address\", \"beat\", \"mcpp\", \"offense_code\"\n",
    "    , \"offense_end_datetime\", \"offense_id\", \"precinct\"\n",
    "    , \"report_number\", \"sector\", \"report_datetime\"\n",
    "    , \"group_a_b\", \"offense_parent_group\", \"crime_against_category\"\n",
    "])\n",
    "#df_roberry.columns = [\"lat\", \"long\", \"offense\", \"date\"]\n",
    "df_roberry.head()"
   ]
  },
  {
   "cell_type": "code",
   "execution_count": null,
   "metadata": {},
   "outputs": [],
   "source": [
    "url = \"https://data.seattle.gov/resource/tazs-3rd5.json?Offense=Burglary\"\n",
    "df_burglary = pd.read_json(url)\n",
    "df_burglary.head()"
   ]
  },
  {
   "cell_type": "code",
   "execution_count": null,
   "metadata": {},
   "outputs": [],
   "source": [
    "csvpath = \"data/SPD_Crime_Data__2008-Present.csv\"\n",
    "df = pd.read_csv(csvpath, low_memory=False)\n",
    "df.head()"
   ]
  },
  {
   "cell_type": "code",
   "execution_count": null,
   "metadata": {},
   "outputs": [],
   "source": [
    "df.size"
   ]
  },
  {
   "cell_type": "code",
   "execution_count": null,
   "metadata": {},
   "outputs": [],
   "source": [
    "df.Offense.unique()"
   ]
  },
  {
   "cell_type": "code",
   "execution_count": null,
   "metadata": {},
   "outputs": [],
   "source": [
    "# Burglary/Breaking & Entering\n",
    "# Robbery"
   ]
  }
 ],
 "metadata": {
  "kernelspec": {
   "display_name": "Python 3",
   "language": "python",
   "name": "python3"
  },
  "language_info": {
   "codemirror_mode": {
    "name": "ipython",
    "version": 3
   },
   "file_extension": ".py",
   "mimetype": "text/x-python",
   "name": "python",
   "nbconvert_exporter": "python",
   "pygments_lexer": "ipython3",
   "version": "3.7.3"
  }
 },
 "nbformat": 4,
 "nbformat_minor": 2
}
